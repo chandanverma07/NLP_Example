{
 "cells": [
  {
   "cell_type": "code",
   "execution_count": 1,
   "id": "14b3181c",
   "metadata": {},
   "outputs": [],
   "source": [
    "import nltk\n",
    "import re\n",
    "import wikipedia\n",
    "import numpy as np\n",
    "import pandas as pd"
   ]
  },
  {
   "cell_type": "code",
   "execution_count": 2,
   "id": "10703510",
   "metadata": {},
   "outputs": [],
   "source": [
    "#nltk.download()\n",
    "#nltk.download('wordnet')"
   ]
  },
  {
   "cell_type": "code",
   "execution_count": 3,
   "id": "f30edb74",
   "metadata": {},
   "outputs": [
    {
     "name": "stdout",
     "output_type": "stream",
     "text": [
      "['Bill', 'Bill.com']\n"
     ]
    }
   ],
   "source": [
    "print(wikipedia.search(\"bill\",results=2))"
   ]
  },
  {
   "cell_type": "code",
   "execution_count": 4,
   "id": "2bd96dd5",
   "metadata": {},
   "outputs": [],
   "source": [
    "def getwiki_paragraph(title):\n",
    "    page=wikipedia.page(title)\n",
    "    return page.content"
   ]
  },
  {
   "cell_type": "code",
   "execution_count": 5,
   "id": "49fc41b9",
   "metadata": {},
   "outputs": [],
   "source": [
    "text_data=getwiki_paragraph(\"indian people\")"
   ]
  },
  {
   "cell_type": "code",
   "execution_count": 6,
   "id": "616e8bb9",
   "metadata": {},
   "outputs": [
    {
     "data": {
      "text/plain": [
       "'Indians are the nationals and citizens of India, the second most populous nation in the world, containing 17.50% of the world\\'s population. In India, the term \"Indian\" refers to nationality, rather th'"
      ]
     },
     "execution_count": 6,
     "metadata": {},
     "output_type": "execute_result"
    }
   ],
   "source": [
    "text_data[:200]"
   ]
  },
  {
   "cell_type": "code",
   "execution_count": 7,
   "id": "7b8e04fb",
   "metadata": {},
   "outputs": [],
   "source": [
    "list_char=text_data.split(\" \")"
   ]
  },
  {
   "cell_type": "code",
   "execution_count": 8,
   "id": "e232f3bb",
   "metadata": {},
   "outputs": [
    {
     "data": {
      "text/plain": [
       "4150"
      ]
     },
     "execution_count": 8,
     "metadata": {},
     "output_type": "execute_result"
    }
   ],
   "source": [
    "len(list_char)"
   ]
  },
  {
   "cell_type": "code",
   "execution_count": 9,
   "id": "57b60e84",
   "metadata": {},
   "outputs": [],
   "source": [
    "unique_char=set(list_char)"
   ]
  },
  {
   "cell_type": "code",
   "execution_count": 10,
   "id": "c51be941",
   "metadata": {},
   "outputs": [
    {
     "data": {
      "text/plain": [
       "1725"
      ]
     },
     "execution_count": 10,
     "metadata": {},
     "output_type": "execute_result"
    }
   ],
   "source": [
    "len(unique_char)"
   ]
  },
  {
   "cell_type": "code",
   "execution_count": 11,
   "id": "49bee358",
   "metadata": {},
   "outputs": [],
   "source": [
    "from nltk.tokenize import word_tokenize,sent_tokenize"
   ]
  },
  {
   "cell_type": "code",
   "execution_count": 12,
   "id": "36729f11",
   "metadata": {},
   "outputs": [],
   "source": [
    "sent_token=sent_tokenize(text_data)"
   ]
  },
  {
   "cell_type": "code",
   "execution_count": 13,
   "id": "cb5e2270",
   "metadata": {},
   "outputs": [
    {
     "data": {
      "text/plain": [
       "150"
      ]
     },
     "execution_count": 13,
     "metadata": {},
     "output_type": "execute_result"
    }
   ],
   "source": [
    "len(sent_token)"
   ]
  },
  {
   "cell_type": "code",
   "execution_count": 14,
   "id": "6a7d92e0",
   "metadata": {},
   "outputs": [],
   "source": [
    "word_token=word_tokenize(text_data)"
   ]
  },
  {
   "cell_type": "code",
   "execution_count": 15,
   "id": "97c68780",
   "metadata": {},
   "outputs": [
    {
     "data": {
      "text/plain": [
       "4826"
      ]
     },
     "execution_count": 15,
     "metadata": {},
     "output_type": "execute_result"
    }
   ],
   "source": [
    "len(word_token)"
   ]
  },
  {
   "cell_type": "code",
   "execution_count": 16,
   "id": "567fab40",
   "metadata": {},
   "outputs": [],
   "source": [
    "from nltk.probability import FreqDist"
   ]
  },
  {
   "cell_type": "code",
   "execution_count": 17,
   "id": "eb1e9d8b",
   "metadata": {},
   "outputs": [],
   "source": [
    "freqdist=FreqDist(word_token)"
   ]
  },
  {
   "cell_type": "code",
   "execution_count": 18,
   "id": "54e3e1b4",
   "metadata": {},
   "outputs": [],
   "source": [
    "#freqdist"
   ]
  },
  {
   "cell_type": "code",
   "execution_count": 19,
   "id": "4c7d2fcd",
   "metadata": {},
   "outputs": [],
   "source": [
    "#freqdist.most_common(10)"
   ]
  },
  {
   "cell_type": "code",
   "execution_count": 20,
   "id": "a6f428dd",
   "metadata": {},
   "outputs": [],
   "source": [
    "import matplotlib.pyplot as plt"
   ]
  },
  {
   "cell_type": "code",
   "execution_count": 21,
   "id": "6eb0149d",
   "metadata": {},
   "outputs": [
    {
     "data": {
      "image/png": "[encoded data removed]",
      "text/plain": [
       "<Figure size 432x288 with 1 Axes>"
      ]
     },
     "metadata": {
      "needs_background": "light"
     },
     "output_type": "display_data"
    }
   ],
   "source": [
    "freqdist.plot(30)\n",
    "plt.show()"
   ]
  },
  {
   "cell_type": "code",
   "execution_count": 22,
   "id": "a7eb3598",
   "metadata": {},
   "outputs": [],
   "source": [
    "import string"
   ]
  },
  {
   "cell_type": "code",
   "execution_count": 23,
   "id": "2fe35e68",
   "metadata": {},
   "outputs": [
    {
     "name": "stdout",
     "output_type": "stream",
     "text": [
      "!\"#$%&'()*+,-./:;<=>?@[\\]^_`{|}~\n"
     ]
    }
   ],
   "source": [
    "print(string.punctuation)"
   ]
  },
  {
   "cell_type": "code",
   "execution_count": 24,
   "id": "b538b554",
   "metadata": {},
   "outputs": [],
   "source": [
    "text_p=\"\".join([char for char in text_data if char not in string.punctuation])"
   ]
  },
  {
   "cell_type": "code",
   "execution_count": 25,
   "id": "f7220b20",
   "metadata": {},
   "outputs": [],
   "source": [
    "#text_p"
   ]
  },
  {
   "cell_type": "code",
   "execution_count": 26,
   "id": "0af931d6",
   "metadata": {},
   "outputs": [],
   "source": [
    "text_p=re.sub(r'\\d+',\" \",text_p)\n",
    "#text_p\n",
    "text_p=text_p.lower()"
   ]
  },
  {
   "cell_type": "code",
   "execution_count": 27,
   "id": "d13dc4e3",
   "metadata": {},
   "outputs": [],
   "source": [
    "word_token_p=word_tokenize(text_p)"
   ]
  },
  {
   "cell_type": "code",
   "execution_count": 28,
   "id": "e00f775d",
   "metadata": {},
   "outputs": [],
   "source": [
    "freqDist_p=FreqDist(word_token_p)"
   ]
  },
  {
   "cell_type": "code",
   "execution_count": 29,
   "id": "59d79f79",
   "metadata": {},
   "outputs": [
    {
     "data": {
      "image/png": "[encoded data removed]",
      "text/plain": [
       "<Figure size 432x288 with 1 Axes>"
      ]
     },
     "metadata": {
      "needs_background": "light"
     },
     "output_type": "display_data"
    }
   ],
   "source": [
    "freqDist_p.plot(30)\n",
    "plt.show()"
   ]
  },
  {
   "cell_type": "code",
   "execution_count": 31,
   "id": "0ca85f14",
   "metadata": {},
   "outputs": [],
   "source": [
    "from nltk.corpus import stopwords"
   ]
  },
  {
   "cell_type": "code",
   "execution_count": 32,
   "id": "147324ef",
   "metadata": {},
   "outputs": [],
   "source": [
    "pre_stop_list=stopwords.words('english')"
   ]
  },
  {
   "cell_type": "code",
   "execution_count": 33,
   "id": "ea14de43",
   "metadata": {},
   "outputs": [
    {
     "data": {
      "text/plain": [
       "179"
      ]
     },
     "execution_count": 33,
     "metadata": {},
     "output_type": "execute_result"
    }
   ],
   "source": [
    "len(pre_stop_list)"
   ]
  },
  {
   "cell_type": "code",
   "execution_count": 34,
   "id": "ee14b4dd",
   "metadata": {},
   "outputs": [],
   "source": [
    "filter_list=[word for word in word_token_p if word not in pre_stop_list]"
   ]
  },
  {
   "cell_type": "code",
   "execution_count": 35,
   "id": "cf6d9fab",
   "metadata": {},
   "outputs": [],
   "source": [
    "#filter_list"
   ]
  },
  {
   "cell_type": "code",
   "execution_count": 36,
   "id": "32a911f2",
   "metadata": {},
   "outputs": [],
   "source": [
    "freq_dist_stop=FreqDist(filter_list)"
   ]
  },
  {
   "cell_type": "code",
   "execution_count": 37,
   "id": "85df6f21",
   "metadata": {},
   "outputs": [
    {
     "data": {
      "image/png": "[encoded data removed]",
      "text/plain": [
       "<Figure size 432x288 with 1 Axes>"
      ]
     },
     "metadata": {
      "needs_background": "light"
     },
     "output_type": "display_data"
    }
   ],
   "source": [
    "freq_dist_stop.plot(30)\n",
    "plt.show()"
   ]
  },
  {
   "cell_type": "code",
   "execution_count": null,
   "id": "050629e7",
   "metadata": {},
   "outputs": [],
   "source": []
  }
 ],
 "metadata": {
  "kernelspec": {
   "display_name": "Python 3",
   "language": "python",
   "name": "python3"
  },
  "language_info": {
   "codemirror_mode": {
    "name": "ipython",
    "version": 3
   },
   "file_extension": ".py",
   "mimetype": "text/x-python",
   "name": "python",
   "nbconvert_exporter": "python",
   "pygments_lexer": "ipython3",
   "version": "3.8.8"
  }
 },
 "nbformat": 4,
 "nbformat_minor": 5
}
